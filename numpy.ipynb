{
 "cells": [
  {
   "cell_type": "code",
   "execution_count": 10,
   "id": "56535ed8",
   "metadata": {},
   "outputs": [
    {
     "name": "stdout",
     "output_type": "stream",
     "text": [
      "Enter the number of students: 2\n",
      "Enter the number of subjects: 2\n",
      "Enter marks for student 1, subject 1: 23.55\n",
      "Enter marks for student 1, subject 2: 34.09\n",
      "Enter marks for student 2, subject 1: 42.6\n",
      "Enter marks for student 2, subject 2: 60.68\n",
      "\n",
      "Student\tTotal Marks\tPercentage\tGrade\n",
      "1\t57.64\t\t28.82%\t\tF\n",
      "2\t103.28\t\t51.64%\t\tC\n"
     ]
    }
   ],
   "source": [
    "import numpy as np\n",
    "\n",
    "num_students = int(input(\"Enter the number of students: \"))\n",
    "num_subjects = int(input(\"Enter the number of subjects: \"))\n",
    "\n",
    "marks = np.zeros((num_students, num_subjects))\n",
    "\n",
    "for i in range(num_students):\n",
    "    for j in range(num_subjects):\n",
    "        marks[i][j] = float(input(f\"Enter marks for student {i+1}, subject {j+1}: \"))\n",
    "\n",
    "total_marks = np.zeros(num_students)\n",
    "\n",
    "for n in range(num_students):\n",
    "    total_marks[n] = np.sum(marks[n])\n",
    "\n",
    "percentage = (total_marks / (num_subjects * 100)) * 100\n",
    "\n",
    "grades = np.where(percentage >= 90, 'A+',\n",
    "          np.where(percentage >= 80, 'A',\n",
    "          np.where(percentage >= 70, 'B+',\n",
    "          np.where(percentage >= 60, 'B',\n",
    "          np.where(percentage >= 50, 'C', 'F')))))\n",
    "\n",
    "print(\"\\nStudent\\tTotal Marks\\tPercentage\\tGrade\")\n",
    "for i in range(num_students):\n",
    "    print(f\"{i+1}\\t{total_marks[i]}\\t\\t{percentage[i]:.2f}%\\t\\t{grades[i]}\")"
   ]
  },
  {
   "cell_type": "code",
   "execution_count": null,
   "id": "6c7ea8fc",
   "metadata": {},
   "outputs": [],
   "source": []
  },
  {
   "cell_type": "code",
   "execution_count": null,
   "id": "0cb4c2d7",
   "metadata": {},
   "outputs": [],
   "source": []
  },
  {
   "cell_type": "code",
   "execution_count": null,
   "id": "a22019a0",
   "metadata": {},
   "outputs": [],
   "source": []
  }
 ],
 "metadata": {
  "kernelspec": {
   "display_name": "Python 3 (ipykernel)",
   "language": "python",
   "name": "python3"
  },
  "language_info": {
   "codemirror_mode": {
    "name": "ipython",
    "version": 3
   },
   "file_extension": ".py",
   "mimetype": "text/x-python",
   "name": "python",
   "nbconvert_exporter": "python",
   "pygments_lexer": "ipython3",
   "version": "3.11.4"
  }
 },
 "nbformat": 4,
 "nbformat_minor": 5
}
