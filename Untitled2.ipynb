{
 "cells": [
  {
   "cell_type": "code",
   "execution_count": 4,
   "id": "ea74af77",
   "metadata": {},
   "outputs": [
    {
     "name": "stdout",
     "output_type": "stream",
     "text": [
      "Result = 36\n"
     ]
    }
   ],
   "source": [
    "#question 1 \n",
    "Sample_list= [2, 3, 6]\n",
    "result=1 \n",
    "for item in Sample_list:\n",
    "    result *= item\n",
    "print(\"Result =\", result)"
   ]
  },
  {
   "cell_type": "code",
   "execution_count": 7,
   "id": "66fc9f30",
   "metadata": {},
   "outputs": [
    {
     "name": "stdout",
     "output_type": "stream",
     "text": [
      "Sorted List: [(2, 1), (1, 2), (2, 3), (4, 4), (2, 5)]\n"
     ]
    }
   ],
   "source": [
    "#question 2 \n",
    "sample_list1 = [(2, 5), (1, 2), (4, 4), (2, 3), (2, 1)]\n",
    "def get_last_element(item):\n",
    "    return item[-1]\n",
    "\n",
    "sorted_list = sorted(sample_list1, key=get_last_element)\n",
    "print(\"Sorted List:\", sorted_list)"
   ]
  },
  {
   "cell_type": "code",
   "execution_count": 11,
   "id": "50d4f357",
   "metadata": {},
   "outputs": [
    {
     "name": "stdout",
     "output_type": "stream",
     "text": [
      "{'a': 400, 'b': 400, 'c': 300, 'd': 400}\n"
     ]
    }
   ],
   "source": [
    "#question 3 \n",
    "d1 = {'a': 100, 'b': 200, 'c':300}\n",
    "\n",
    "d2 = {'a': 300, 'b': 200, 'd':400}\n",
    "result={}\n",
    "for key in d1:\n",
    "    if key in d2:\n",
    "        result[key] = d1[key] + d2[key]\n",
    "    else:\n",
    "        result[key] = d1[key]\n",
    "        \n",
    "for key in d2:\n",
    "    if key not in d1:\n",
    "     result[key] = d2[key]\n",
    "\n",
    "print(result)"
   ]
  },
  {
   "cell_type": "code",
   "execution_count": 13,
   "id": "388dc0af",
   "metadata": {},
   "outputs": [
    {
     "name": "stdout",
     "output_type": "stream",
     "text": [
      "n: 5\n",
      "{1: 1, 2: 4, 3: 9, 4: 16, 5: 25}\n"
     ]
    }
   ],
   "source": [
    "#question 4 \n",
    "n= int(input(\"n: \"))\n",
    "result_dict = {}\n",
    "for i in range(1, n + 1):\n",
    "    result_dict[i] = i * i\n",
    "print(result_dict)"
   ]
  },
  {
   "cell_type": "code",
   "execution_count": 29,
   "id": "ef9a7a57",
   "metadata": {},
   "outputs": [
    {
     "name": "stdout",
     "output_type": "stream",
     "text": [
      "[('item3', '24.5'), ('item2', '15.10'), ('item1', '12.20')]\n"
     ]
    }
   ],
   "source": [
    "#question 5 \n",
    "\n",
    "my_list = [('item1', '12.20'), ('item2', '15.10'), ('item3', '24.5')]\n",
    "\n",
    "sorted_list = sorted(my_list, key=lambda x: float(x[1]), reverse=True)\n",
    "\n",
    "print(sorted_list)\n"
   ]
  },
  {
   "cell_type": "code",
   "execution_count": null,
   "id": "415d44a4",
   "metadata": {},
   "outputs": [],
   "source": [
    "#question 6 \n",
    "user_set = set()\n",
    "#1.\n",
    "input_values = input(\"Enter the values for the set (comma-separated): \")\n",
    "user_set = set(map(int, input_values.split(',')))\n",
    "print(\"User-created set:\", user_set)\n",
    "#2.\n",
    "for element in user_set:\n",
    "    print(element)\n",
    "#3\n",
    "user_set.add(7)\n",
    "user_set.add(8)\n",
    "user_set.remove(2)"
   ]
  },
  {
   "cell_type": "markdown",
   "id": "ed154432",
   "metadata": {},
   "source": []
  },
  {
   "cell_type": "code",
   "execution_count": null,
   "id": "f2096953",
   "metadata": {},
   "outputs": [],
   "source": []
  }
 ],
 "metadata": {
  "kernelspec": {
   "display_name": "Python 3 (ipykernel)",
   "language": "python",
   "name": "python3"
  },
  "language_info": {
   "codemirror_mode": {
    "name": "ipython",
    "version": 3
   },
   "file_extension": ".py",
   "mimetype": "text/x-python",
   "name": "python",
   "nbconvert_exporter": "python",
   "pygments_lexer": "ipython3",
   "version": "3.11.4"
  }
 },
 "nbformat": 4,
 "nbformat_minor": 5
}
