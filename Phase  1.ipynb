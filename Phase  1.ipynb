{
 "cells": [
  {
   "cell_type": "code",
   "execution_count": 3,
   "id": "a40eb179",
   "metadata": {},
   "outputs": [],
   "source": [
    "import tkinter as tk\n",
    "import random\n",
    "from tkinter import ttk \n",
    "#Generate a random selection for the computer (rock, paper, or scissors).\n",
    "def get_computer_choice():\n",
    "    choices = [\"Rock\", \"Paper\", \"Scissors\"]\n",
    "    return random.choice(choices)\n",
    "def play():\n",
    "#Prompt the user to choose between rock, paper, or scissors\n",
    "    user_choice.set(None)\n",
    "    user_choice.set(\"\")\n",
    "    player_choice = user_choice.get()\n",
    "    computer_choice = get_computer_choice()\n",
    "    result = determine_winner(player_choice, computer_choice)\n",
    "    result_label.config(text=f\"Computer chose {computer_choice}. {result}\")\n",
    "#Assign the randomly generated selection to the variable comp_pick\n",
    "    comp_pick.set(computer_choice)\n",
    "    rock_button.config(state=\"disabled\")\n",
    "    paper_button.config(state=\"disabled\")\n",
    "    scissors_button.config(state=\"disabled\")\n",
    "#Initialize the game window with the appropriate dimensions and title\n",
    "window = tk.Tk()\n",
    "window.title(\"Rock Paper Scissors Game\")\n",
    "#Set the background color of the window\n",
    "window.configure(bg='#FFC0CB')\n",
    "#Create a label for the game title and display it\n",
    "title_label = tk.Label(window, text=\"Rock Paper Scissors Game\", font=(\"Arial\", 20, \"bold\"))\n",
    "title_label.pack(pady=20)\n",
    "#Prompt the user to choose between rock, paper, or scissors\n",
    "prompt_label = tk.Label(window, text=\"Choose your move:\", font=(\"Arial\", 14), bg='#FFC0CB')\n",
    "prompt_label.pack()\n",
    "user_choice = tk.StringVar()\n",
    "user_choice.set(\"\")\n",
    "user_choice.set(None)\n",
    "rock_button = tk.Radiobutton(window, text=\"Rock\", variable=user_choice, value=\"Rock\", font=(\"Arial\", 12), bg='#FFC0CB')\n",
    "paper_button = tk.Radiobutton(window, text=\"Paper\", variable=user_choice, value=\"Paper\", font=(\"Arial\", 12), bg='#FFC0CB')\n",
    "scissors_button = tk.Radiobutton(window, text=\"Scissors\", variable=user_choice, value=\"Scissors\", font=(\"Arial\", 12), bg='#FFC0CB')\n",
    "rock_button.pack()\n",
    "paper_button.pack()\n",
    "scissors_button.pack()\n",
    "window.mainloop()"
   ]
  },
  {
   "cell_type": "code",
   "execution_count": null,
   "id": "d5cd3074",
   "metadata": {},
   "outputs": [],
   "source": []
  },
  {
   "cell_type": "code",
   "execution_count": null,
   "id": "67eabf79",
   "metadata": {},
   "outputs": [],
   "source": []
  }
 ],
 "metadata": {
  "kernelspec": {
   "display_name": "Python 3 (ipykernel)",
   "language": "python",
   "name": "python3"
  },
  "language_info": {
   "codemirror_mode": {
    "name": "ipython",
    "version": 3
   },
   "file_extension": ".py",
   "mimetype": "text/x-python",
   "name": "python",
   "nbconvert_exporter": "python",
   "pygments_lexer": "ipython3",
   "version": "3.11.4"
  }
 },
 "nbformat": 4,
 "nbformat_minor": 5
}
