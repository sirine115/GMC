{
 "cells": [
  {
   "cell_type": "code",
   "execution_count": 6,
   "id": "e0b97078",
   "metadata": {},
   "outputs": [
    {
     "name": "stdout",
     "output_type": "stream",
     "text": [
      "Welcome to the Guess the Number game! Im thinking of a number between 1 and 100. Can you guess what it is? 55\n",
      "Your guess is too high. Guess again: 40\n",
      "Your guess is too low. Guess again: 50\n",
      "Your guess is too high. Guess again: 45\n",
      "Your guess is too low. Guess again: 43\n",
      "Your guess is too low. Guess again: 44\n",
      "Your guess is too low. Guess again: 47\n",
      "Your guess is too high. Guess again: 46\n",
      "Congratulations! You guessed the number correctly!\n"
     ]
    }
   ],
   "source": [
    "\n",
    "import random\n",
    "g=random.randint(0,100)\n",
    "a = int(input('Welcome to the Guess the Number game! Im thinking of a number between 1 and 100. Can you guess what it is? '))\n",
    "while(a!=g) :  \n",
    "    if a < g:  a = int(input('Your guess is too low. Guess again: '))\n",
    "    if a > g:a = int(input('Your guess is too high. Guess again: '))\n",
    "if a == g: print('Congratulations! You guessed the number correctly!') "
   ]
  },
  {
   "cell_type": "code",
   "execution_count": null,
   "id": "f08f43ad",
   "metadata": {},
   "outputs": [],
   "source": []
  },
  {
   "cell_type": "code",
   "execution_count": null,
   "id": "7ac5d60f",
   "metadata": {},
   "outputs": [],
   "source": []
  },
  {
   "cell_type": "code",
   "execution_count": null,
   "id": "cc9c3055",
   "metadata": {},
   "outputs": [],
   "source": []
  }
 ],
 "metadata": {
  "kernelspec": {
   "display_name": "Python 3 (ipykernel)",
   "language": "python",
   "name": "python3"
  },
  "language_info": {
   "codemirror_mode": {
    "name": "ipython",
    "version": 3
   },
   "file_extension": ".py",
   "mimetype": "text/x-python",
   "name": "python",
   "nbconvert_exporter": "python",
   "pygments_lexer": "ipython3",
   "version": "3.11.4"
  }
 },
 "nbformat": 4,
 "nbformat_minor": 5
}
