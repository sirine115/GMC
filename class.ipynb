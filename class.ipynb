{
 "cells": [
  {
   "cell_type": "code",
   "execution_count": 1,
   "id": "57d9c6b7",
   "metadata": {},
   "outputs": [
    {
     "name": "stdout",
     "output_type": "stream",
     "text": [
      "(1, 2, 3)\n"
     ]
    }
   ],
   "source": [
    "#question 1 \n",
    "class Point3D:\n",
    "    \n",
    "    def __init__(self, x, y, z):\n",
    "        self.x = x\n",
    "        self.y = y\n",
    "        self.z = z\n",
    "\n",
    "    def get_coordinates(self):\n",
    "        return (self.x, self.y, self.z)\n",
    "    \n",
    "my_point = Point3D(1, 2, 3)\n",
    "\n",
    "print(my_point.get_coordinates())"
   ]
  },
  {
   "cell_type": "code",
   "execution_count": 2,
   "id": "77ca6016",
   "metadata": {},
   "outputs": [
    {
     "name": "stdout",
     "output_type": "stream",
     "text": [
      "Area: 12\n",
      "Perimeter: 14\n"
     ]
    }
   ],
   "source": [
    "#question 2 \n",
    "class Rectangle:\n",
    "    def __init__(self, length, width):\n",
    "        self.length = length\n",
    "        self.width = width\n",
    "\n",
    "    def area(self):\n",
    "        return self.length * self.width\n",
    "\n",
    "    def perimeter(self):\n",
    "        return 2 * (self.length + self.width)\n",
    "my_rectangle = Rectangle(4, 3)\n",
    "\n",
    "area = my_rectangle.area()\n",
    "perimeter = my_rectangle.perimeter()\n",
    "\n",
    "print(\"Area:\", area)\n",
    "print(\"Perimeter:\", perimeter)"
   ]
  },
  {
   "cell_type": "code",
   "execution_count": 4,
   "id": "715bde0a",
   "metadata": {},
   "outputs": [],
   "source": [
    "#question 3\n",
    "class circle: \n",
    "    def __init__(self, center_x, center_y, radius):\n",
    "        self.center_x = center_x\n",
    "        self.center_y = center_y\n",
    "        self.radius = radius\n",
    "    def area(self):\n",
    "        return math.pi * self.radius**2\n",
    "\n",
    "    def perimeter(self):\n",
    "        return 2 * math.pi * self.radius\n",
    "\n",
    "    def isInside(self, point_x, point_y):\n",
    "        distance = math.sqrt((point_x - self.center_x)**2 + (point_y - self.center_y)**2)\n",
    "        return distance <= self.radius"
   ]
  },
  {
   "cell_type": "code",
   "execution_count": 5,
   "id": "8d2386d8",
   "metadata": {},
   "outputs": [],
   "source": [
    "#question 4 \n",
    "class Bank:\n",
    "    def __init__(self, balance):\n",
    "        self.balance = balance\n",
    "\n",
    "    def deposit(self, amount):\n",
    "        if amount > 0:\n",
    "            self.balance += amount\n",
    "            return True  \n",
    "        else:\n",
    "            return False  \n",
    "\n",
    "    def withdraw(self, amount):\n",
    "        if amount > 0 and self.balance >= amount:\n",
    "            self.balance -= amount\n",
    "            return True  \n",
    "        else:\n",
    "            return False  \n"
   ]
  },
  {
   "cell_type": "code",
   "execution_count": null,
   "id": "0c46c215",
   "metadata": {},
   "outputs": [],
   "source": []
  }
 ],
 "metadata": {
  "kernelspec": {
   "display_name": "Python 3 (ipykernel)",
   "language": "python",
   "name": "python3"
  },
  "language_info": {
   "codemirror_mode": {
    "name": "ipython",
    "version": 3
   },
   "file_extension": ".py",
   "mimetype": "text/x-python",
   "name": "python",
   "nbconvert_exporter": "python",
   "pygments_lexer": "ipython3",
   "version": "3.11.4"
  }
 },
 "nbformat": 4,
 "nbformat_minor": 5
}
