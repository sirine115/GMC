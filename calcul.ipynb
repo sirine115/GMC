{
 "cells": [
  {
   "cell_type": "code",
   "execution_count": 15,
   "id": "4b167c23",
   "metadata": {},
   "outputs": [
    {
     "name": "stdout",
     "output_type": "stream",
     "text": [
      "Enter the first number: 15\n",
      "Enter the second number: 5\n",
      "Please enter the operation: +\n",
      "The result is: 20.0\n"
     ]
    }
   ],
   "source": [
    "def calculator(num1, num2):\n",
    "    op = input(\"Please enter the operation: \")\n",
    "    \n",
    "    if op not in ['+', '-', '*', '/']:\n",
    "        print(\"Invalid operator! Please enter +, -, *, or /.\")\n",
    "        return None \n",
    "        \n",
    "    if op == '+':\n",
    "        result = num1 + num2\n",
    "    elif op == '-':\n",
    "        result = num1 - num2\n",
    "    elif op == '*':\n",
    "        result = num1 * num2\n",
    "    elif op == '/' and num2 != 0: \n",
    "        result = num1 / num2\n",
    "    else:\n",
    "        print(\"Error: Invalid operation or division by zero\")\n",
    "        return None  \n",
    "    \n",
    "    return result  \n",
    "\n",
    "num1 = float(input(\"Enter the first number: \"))\n",
    "num2 = float(input(\"Enter the second number: \"))\n",
    "result = calculator(num1, num2)\n",
    "\n",
    "if result is not None:\n",
    "    print(\"The result is:\", result)\n",
    "\n",
    "\n"
   ]
  },
  {
   "cell_type": "code",
   "execution_count": null,
   "id": "7fb49caa",
   "metadata": {},
   "outputs": [],
   "source": []
  }
 ],
 "metadata": {
  "kernelspec": {
   "display_name": "Python 3 (ipykernel)",
   "language": "python",
   "name": "python3"
  },
  "language_info": {
   "codemirror_mode": {
    "name": "ipython",
    "version": 3
   },
   "file_extension": ".py",
   "mimetype": "text/x-python",
   "name": "python",
   "nbconvert_exporter": "python",
   "pygments_lexer": "ipython3",
   "version": "3.11.4"
  }
 },
 "nbformat": 4,
 "nbformat_minor": 5
}
